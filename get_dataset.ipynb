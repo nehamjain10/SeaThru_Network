{
 "cells": [
  {
   "cell_type": "code",
   "execution_count": 97,
   "source": [
    "import glob\n",
    "import matplotlib.pyplot as plt\n",
    "import os\n",
    "import imageio\n",
    "import pandas as pd\n",
    "%matplotlib inline"
   ],
   "outputs": [],
   "metadata": {}
  },
  {
   "cell_type": "code",
   "execution_count": 98,
   "source": [
    "input_files = []\n",
    "output_files = []"
   ],
   "outputs": [],
   "metadata": {}
  },
  {
   "cell_type": "code",
   "execution_count": 99,
   "source": [
    "for i in glob.glob(\"/home/neham/uw_datasets/raw-890/*\"):\n",
    "    input_files.append(i)\n",
    "    output_file = os.path.join(\"/home/neham/uw_datasets/reference-890/\",i.split('/')[-1])\n",
    "    output_files.append(output_file)"
   ],
   "outputs": [],
   "metadata": {}
  },
  {
   "cell_type": "code",
   "execution_count": 100,
   "source": [
    "print(imageio.imread(input_files[-1]).shape)"
   ],
   "outputs": [
    {
     "output_type": "stream",
     "name": "stdout",
     "text": [
      "(480, 640, 3)\n"
     ]
    }
   ],
   "metadata": {}
  },
  {
   "cell_type": "code",
   "execution_count": 101,
   "source": [
    "for i in glob.glob(\"/home/neham/uw_datasets/UnderWater_Datasets/Paired/underwater_imagenet/trainA/*\"):\n",
    "    input_files.append(i)\n",
    "    output_files.append(os.path.join('/home/neham/uw_datasets/UnderWater_Datasets/Paired/underwater_imagenet/trainB/',i.split('/')[-1]))"
   ],
   "outputs": [],
   "metadata": {}
  },
  {
   "cell_type": "code",
   "execution_count": 102,
   "source": [
    "print(imageio.imread(input_files[-1]).shape)"
   ],
   "outputs": [
    {
     "output_type": "stream",
     "name": "stdout",
     "text": [
      "(256, 256, 3)\n"
     ]
    }
   ],
   "metadata": {}
  },
  {
   "cell_type": "code",
   "execution_count": 103,
   "source": [
    "for i in glob.glob(\"/home/neham/uw_datasets/UnderWater_Datasets/Paired/underwater_scenes/trainA/*\"):\n",
    "    input_files.append(i)\n",
    "    output_files.append(os.path.join('/home/neham/uw_datasets/UnderWater_Datasets/Paired/underwater_scenes/trainB/',i.split('/')[-1]))"
   ],
   "outputs": [],
   "metadata": {}
  },
  {
   "cell_type": "code",
   "execution_count": 104,
   "source": [
    "print(imageio.imread(input_files[-1]).shape)"
   ],
   "outputs": [
    {
     "output_type": "stream",
     "name": "stdout",
     "text": [
      "(240, 320, 3)\n"
     ]
    }
   ],
   "metadata": {}
  },
  {
   "cell_type": "code",
   "execution_count": 105,
   "source": [
    "for i in glob.glob(\"/home/neham/uw_datasets/UnderWater_Datasets/Paired/underwater_dark/trainA/*\"):\n",
    "    input_files.append(i)\n",
    "    output_files.append(os.path.join('/home/neham/uw_datasets/UnderWater_Datasets/Paired/underwater_dark/trainB/',i.split('/')[-1]))"
   ],
   "outputs": [],
   "metadata": {}
  },
  {
   "cell_type": "code",
   "execution_count": 106,
   "source": [
    "print(imageio.imread(input_files[-1]).shape)"
   ],
   "outputs": [
    {
     "output_type": "stream",
     "name": "stdout",
     "text": [
      "(256, 256, 3)\n"
     ]
    }
   ],
   "metadata": {}
  },
  {
   "cell_type": "code",
   "execution_count": 107,
   "source": [
    "len(input_files)"
   ],
   "outputs": [
    {
     "output_type": "execute_result",
     "data": {
      "text/plain": [
       "12325"
      ]
     },
     "metadata": {},
     "execution_count": 107
    }
   ],
   "metadata": {}
  },
  {
   "cell_type": "code",
   "execution_count": 108,
   "source": [
    "for i in glob.glob(\"/home/neham/uw_datasets/synthetic_dataset/*\"):\n",
    "    gt = glob.glob(i+\"/g*\")[0]\n",
    "    uw = glob.glob(i+\"/u*\")[0]\n",
    "    gts = os.listdir(gt)\n",
    "    for i in gts:\n",
    "        input_files.append(os.path.join(uw,i))\n",
    "        output_files.append(os.path.join(gt,i))"
   ],
   "outputs": [],
   "metadata": {
    "tags": []
   }
  },
  {
   "cell_type": "code",
   "execution_count": 109,
   "source": [
    "df = pd.DataFrame({\"underwater\":input_files,\"gt\":output_files})"
   ],
   "outputs": [],
   "metadata": {}
  },
  {
   "cell_type": "code",
   "execution_count": 110,
   "source": [
    "df_train = df.sample(frac=0.8)\n",
    "df_val = df.drop(df_train.index)"
   ],
   "outputs": [],
   "metadata": {}
  },
  {
   "cell_type": "code",
   "execution_count": 111,
   "source": [
    "len(df_train)"
   ],
   "outputs": [
    {
     "output_type": "execute_result",
     "data": {
      "text/plain": [
       "21452"
      ]
     },
     "metadata": {},
     "execution_count": 111
    }
   ],
   "metadata": {}
  },
  {
   "cell_type": "code",
   "execution_count": 112,
   "source": [
    "df_train.to_csv(\"data_train.csv\",index=False)"
   ],
   "outputs": [],
   "metadata": {}
  },
  {
   "cell_type": "code",
   "execution_count": 113,
   "source": [
    "df_val.to_csv(\"data_test.csv\",index=False)"
   ],
   "outputs": [],
   "metadata": {}
  },
  {
   "cell_type": "code",
   "execution_count": null,
   "source": [],
   "outputs": [],
   "metadata": {}
  },
  {
   "cell_type": "code",
   "execution_count": null,
   "source": [],
   "outputs": [],
   "metadata": {}
  },
  {
   "cell_type": "code",
   "execution_count": null,
   "source": [],
   "outputs": [],
   "metadata": {}
  },
  {
   "cell_type": "code",
   "execution_count": null,
   "source": [],
   "outputs": [],
   "metadata": {}
  }
 ],
 "metadata": {
  "kernelspec": {
   "name": "python3",
   "display_name": "Python 3.9.2 64-bit ('seathru': conda)"
  },
  "language_info": {
   "codemirror_mode": {
    "name": "ipython",
    "version": 3
   },
   "file_extension": ".py",
   "mimetype": "text/x-python",
   "name": "python",
   "nbconvert_exporter": "python",
   "pygments_lexer": "ipython3",
   "version": "3.9.2"
  },
  "interpreter": {
   "hash": "852a3c0ef8269d1055315cf744c6b9714e6cbc795cf4b9190293d035134ef204"
  }
 },
 "nbformat": 4,
 "nbformat_minor": 5
}